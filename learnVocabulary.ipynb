{
 "cells": [
  {
   "cell_type": "code",
   "execution_count": 1,
   "metadata": {},
   "outputs": [],
   "source": [
    "from pathlib import Path\n",
    "import numpy as np\n",
    "import os"
   ]
  },
  {
   "cell_type": "code",
   "execution_count": 13,
   "metadata": {},
   "outputs": [],
   "source": [
    "class LearnVocabulary:\n",
    "    def __init__(self, path2txt: str, alias: str) -> None:\n",
    "        self.path2txt = path2txt\n",
    "        self.name = alias\n",
    "        self.load_txt()\n",
    "        self.preprocessing_name_of_language()\n",
    "        self.preprocessing_text()\n",
    "    \n",
    "    def load_txt(self) -> None:\n",
    "        with open(self.path2txt, encoding='utf-8') as f:\n",
    "            self.list_of_sentence = f.readlines()\n",
    "            self.name_of_language = self.list_of_sentence[0]\n",
    "            self.list_of_sentence = self.list_of_sentence[1:]\n",
    "\n",
    "    def preprocessing_text(self) -> None:\n",
    "        list_of_word1 = []\n",
    "        list_of_word2 = []\n",
    "        for sentence in self.list_of_sentence:\n",
    "            split_sentence = sentence.split('-')\n",
    "            list_of_word1.append(split_sentence[0].strip())\n",
    "            list_of_word2.append(split_sentence[-1].strip())\n",
    "        self.language1 = {word1: word2 for word1, word2, in zip(list_of_word1, list_of_word2)}\n",
    "        self.language2 = {word2: word1 for word1, word2, in zip(list_of_word1, list_of_word2)}\n",
    "\n",
    "    def preprocessing_name_of_language(self) -> None:\n",
    "        self.language = self.name_of_language.split('-')\n",
    "        self.language = [lang.strip() for lang in self.language]\n",
    "\n",
    "\n",
    "    def present_dictionary(self, option: int=1) -> None:\n",
    "        '''\n",
    "        Presentation of all words in the tested dictionary.\n",
    "        :param: option: int=1 --> which language should be in the first column? (1- first, 2-second, another-error)\n",
    "        '''\n",
    "        print('##### All words in dictionary #####')\n",
    "        if(option==1):\n",
    "            idx = 1\n",
    "            print(f'#### {self.language[0]} -- {self.language[1]}')\n",
    "            for key, item in zip(self.language1.keys(), self.language1.values()):\n",
    "                print(f'## {idx}. {key} -- {item}')\n",
    "                idx += 1\n",
    "        elif(option==2):\n",
    "            idx = 1\n",
    "            print(f'#### {self.language[1]} -- {self.language[0]}')\n",
    "            for key, item in zip(self.language1.keys(), self.language1.values()):\n",
    "                print(f'## {idx}. {key} -- {item}')\n",
    "                idx += 1\n",
    "        else:\n",
    "            print('Error: option must be {1,2}')\n",
    "    \n",
    "    def create_learning_list(self) -> None:\n",
    "        basic_path = self.path2txt[:-4]\n",
    "        self.path2lang1 = basic_path + f'_ProgressList_{self.language[0]}_{self.name}.txt'\n",
    "        self.path2lang2 = basic_path + f'_ProgressList_{self.language[1]}_{self.name}.txt'\n",
    "        if Path(self.path2lang1).is_file():\n",
    "            print('Your vocabulary list does exist!')\n",
    "        else:\n",
    "            print(\"Your vocabulary list doesn't exist! We create it\")\n",
    "            with open(self.path2lang1, 'w', encoding='utf-8') as f:\n",
    "                for item in self.language1.keys():\n",
    "                    f.write(\"%s\\n\" % item)\n",
    "        if Path(self.path2lang2).is_file():\n",
    "            print('Your vocabulary list does exist!')\n",
    "        else:\n",
    "            print(\"Your vocabulary list doesn't exist! We create it\")\n",
    "            with open(self.path2lang2, 'w', encoding='utf-8') as f:\n",
    "                for item in self.language2.keys():\n",
    "                    f.write(\"%s\\n\" % item)\n",
    "\n",
    "    def load_your_vocabulary_list(self) -> None:\n",
    "        with open(self.path2lang1, encoding='utf-8') as f:\n",
    "            self.vocabulary_lang1_list = f.readlines()\n",
    "            self.vocabulary_lang1_list = [word.strip().replace('\\n', '') for word in self.vocabulary_lang1_list]\n",
    "        with open(self.path2lang2, encoding='utf-8') as f:\n",
    "            self.vocabulary_lang2_list = f.readlines()\n",
    "            self.vocabulary_lang2_list = [word.strip().replace('\\n', '') for word in self.vocabulary_lang2_list]\n",
    "\n",
    "    def update_progress_list(self, language_task: int=1):\n",
    "        if(language_task==1):\n",
    "            os.remove(self.path2lang1)\n",
    "            with open(self.path2lang1, 'w', encoding='utf-8') as f:\n",
    "                for item in self.vocabulary_lang1_list:\n",
    "                    f.write(\"%s\\n\" % item)\n",
    "        elif(language_task==2):\n",
    "            os.remove(self.path2lang2)\n",
    "            with open(self.path2lang2, 'w', encoding='utf-8') as f:\n",
    "                for item in self.vocabulary_lang2_list:\n",
    "                    f.write(\"%s\\n\" % item)\n",
    "\n",
    "\n",
    "    def rules(self) -> None:\n",
    "        print(\"\"\"!RULES!\n",
    "        You will get n words to translate in both languages. \n",
    "        Your progress list will be saved after each task. \n",
    "        If you translate the word correctly, it will be removed word from your progress list. \n",
    "        If you translate a word incorrectly, the word will be added to your progress list.\"\"\")\n",
    "        print(\"Let's get started\")\n",
    "\n",
    "    def check_answer(self, word, input_word, language_task: int=1) -> bool:\n",
    "        if (language_task==1):\n",
    "            if(self.language1[word] == input_word):\n",
    "                return True\n",
    "            else:\n",
    "                return False\n",
    "        else: \n",
    "            if(self.language2[word] == input_word):\n",
    "                return True\n",
    "            else:\n",
    "                return False\n",
    "\n",
    "    def remove_word_from_progress_list(self, word: str, vocabulary_list: list, language_task: int=1) -> list:\n",
    "        idx = vocabulary_list.index(word)\n",
    "        vocabulary_list.remove(vocabulary_list[idx])\n",
    "        return vocabulary_list\n",
    "\n",
    "    def add_word_to_progress_list(self, word: str, vocabulary_list: list, language_task: int=1) -> list:\n",
    "        idx = vocabulary_list.index(word)\n",
    "        vocabulary_list.append(vocabulary_list[idx])\n",
    "        return vocabulary_list\n",
    "    \n",
    "    def translation_task(self, num_of_word: int, language_task: int=1) -> None:\n",
    "        num_of_correct_answer = 0\n",
    "        if(language_task==1):\n",
    "            if(len(self.vocabulary_lang1_list) < num_of_word):\n",
    "                num_of_word = len(self.vocabulary_lang1_list)\n",
    "            list_of_word = np.random.choice(self.vocabulary_lang1_list, num_of_word, replace=False)\n",
    "            # print(self.vocabulary_lang1_list)\n",
    "            for idx, word in enumerate(list_of_word):\n",
    "                print(f\"# {idx}. {word} --> \")\n",
    "                input_word = str(input(f\"# {idx}. {word} --> \")).strip()\n",
    "                if(self.check_answer(word, input_word, language_task)):\n",
    "                    print(f\"### -----> {input_word} -- Correct\")\n",
    "                    self.vocabulary_lang1_list = self.remove_word_from_progress_list(word, self.vocabulary_lang1_list, language_task)\n",
    "                    num_of_correct_answer += 1\n",
    "                else:\n",
    "                    print(f\"### -----> {input_word} -- Wrong (must be '{self.language1[word]}')\")\n",
    "                    self.vocabulary_lang1_list = self.add_word_to_progress_list(word, self.vocabulary_lang1_list, language_task)\n",
    "            self.update_progress_list(language_task) \n",
    "        else:\n",
    "            if(len(self.vocabulary_lang2_list) < num_of_word):\n",
    "                num_of_word = len(self.vocabulary_lang2_list)\n",
    "            list_of_word = np.random.choice(self.vocabulary_lang2_list, num_of_word, replace=False)\n",
    "            for idx, word in enumerate(list_of_word):\n",
    "                print(f\"# {idx}. {word} --> \")\n",
    "                input_word = str(input(f\"# {idx}. {word} --> \")).strip()\n",
    "                if(self.check_answer(word, input_word, language_task)):\n",
    "                    print(f\"### -----> {input_word} -- Correct\")\n",
    "                    self.vocabulary_lang2_list = self.remove_word_from_progress_list(word, self.vocabulary_lang2_list, language_task)\n",
    "                    num_of_correct_answer += 1\n",
    "                else:\n",
    "                    print(f\"### -----> {input_word} -- Wrong (must be '{self.language1[word]}')\")\n",
    "                    self.vocabulary_lang2_list = self.add_word_to_progress_list(word, self.vocabulary_lang2_list, language_task)\n",
    "            self.update_progress_list(language_task) \n",
    "        print(f'########## Your score: {num_of_correct_answer}/{num_of_word} ({100*num_of_correct_answer/num_of_word}%)')\n",
    "        \n",
    "\n",
    "\n",
    "    def start_testing(self, num_of_word: int) -> None:\n",
    "        self.create_learning_list()\n",
    "        self.load_your_vocabulary_list()\n",
    "        self.rules()\n",
    "        self.translation_task(num_of_word)\n",
    "        #TODO Podział na zadania\n",
    "\n",
    "        # input_word = str(input(\"Translate the word: \"))\n",
    "        # print(\"to jest twoja liczba\", a)"
   ]
  },
  {
   "cell_type": "code",
   "execution_count": 14,
   "metadata": {},
   "outputs": [
    {
     "name": "stdout",
     "output_type": "stream",
     "text": [
      "Your vocabulary list does exist!\n",
      "Your vocabulary list does exist!\n",
      "!RULES!\n",
      "        You will get n words to translate in both languages. \n",
      "        Your progress list will be saved after each task. \n",
      "        If you translate the word correctly, it will be removed word from your progress list. \n",
      "        If you translate a word incorrectly, the word will be added to your progress list.\n",
      "Let's get started\n",
      "# 0. fetch --> \n",
      "### -----> przynieść -- Correct\n",
      "# 1. discover --> \n",
      "### -----> odkryć -- Correct\n",
      "########## Your score: 2/2 (100.0%)\n"
     ]
    }
   ],
   "source": [
    "lv = LearnVocabulary(path2txt='vocabulary\\wladaj_i_gadaj_adv_1.txt', alias='MM')\n",
    "# lv.load_txt()\n",
    "# lv.present_dictionary()\n",
    "lv.start_testing(2)\n",
    "# list(lv.list_of_sentence)"
   ]
  },
  {
   "cell_type": "code",
   "execution_count": 21,
   "metadata": {},
   "outputs": [
    {
     "data": {
      "text/plain": [
       "3"
      ]
     },
     "execution_count": 21,
     "metadata": {},
     "output_type": "execute_result"
    }
   ],
   "source": [
    "lv.vocabulary_lang1_list.index('castaway')"
   ]
  },
  {
   "cell_type": "code",
   "execution_count": 26,
   "metadata": {},
   "outputs": [],
   "source": [
    "kkk = ['a','a','b']\n",
    "kkk.remove(kkk[kkk.index('b')])"
   ]
  },
  {
   "cell_type": "code",
   "execution_count": 27,
   "metadata": {},
   "outputs": [
    {
     "data": {
      "text/plain": [
       "['a', 'a']"
      ]
     },
     "execution_count": 27,
     "metadata": {},
     "output_type": "execute_result"
    }
   ],
   "source": [
    "kkk"
   ]
  },
  {
   "cell_type": "code",
   "execution_count": null,
   "metadata": {},
   "outputs": [],
   "source": []
  }
 ],
 "metadata": {
  "interpreter": {
   "hash": "1e0f987234bc18a56d51c339a368a33a9b71f769f796dd633b2e6116bc2ca256"
  },
  "kernelspec": {
   "display_name": "Python 3.8.5 64-bit",
   "language": "python",
   "name": "python3"
  },
  "language_info": {
   "codemirror_mode": {
    "name": "ipython",
    "version": 3
   },
   "file_extension": ".py",
   "mimetype": "text/x-python",
   "name": "python",
   "nbconvert_exporter": "python",
   "pygments_lexer": "ipython3",
   "version": "3.8.5"
  },
  "orig_nbformat": 4
 },
 "nbformat": 4,
 "nbformat_minor": 2
}
