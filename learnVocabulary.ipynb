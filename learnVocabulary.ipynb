{
 "cells": [
  {
   "cell_type": "code",
   "execution_count": 56,
   "metadata": {},
   "outputs": [],
   "source": [
    "from pathlib import Path\n",
    "import numpy as np"
   ]
  },
  {
   "cell_type": "code",
   "execution_count": 47,
   "metadata": {},
   "outputs": [],
   "source": [
    "class LearnVocabulary:\n",
    "    def __init__(self, path2txt: str, alias: str) -> None:\n",
    "        self.path2txt = path2txt\n",
    "        self.name = alias\n",
    "        self.load_txt()\n",
    "        self.preprocessing_name_of_language()\n",
    "        self.preprocessing_text()\n",
    "    \n",
    "    def load_txt(self) -> None:\n",
    "        with open(self.path2txt, encoding='utf-8') as f:\n",
    "            self.list_of_sentence = f.readlines()\n",
    "            self.name_of_language = self.list_of_sentence[0]\n",
    "            self.list_of_sentence = self.list_of_sentence[1:]\n",
    "\n",
    "    def preprocessing_text(self) -> None:\n",
    "        list_of_word1 = []\n",
    "        list_of_word2 = []\n",
    "        for sentence in self.list_of_sentence:\n",
    "            split_sentence = sentence.split('-')\n",
    "            list_of_word1.append(split_sentence[0].strip())\n",
    "            list_of_word2.append(split_sentence[-1].strip())\n",
    "        self.language1 = {word1: word2 for word1, word2, in zip(list_of_word1, list_of_word2)}\n",
    "        self.language2 = {word2: word1 for word1, word2, in zip(list_of_word1, list_of_word2)}\n",
    "\n",
    "    def preprocessing_name_of_language(self) -> None:\n",
    "        self.language = self.name_of_language.split('-')\n",
    "        self.language = [lang.strip() for lang in self.language]\n",
    "\n",
    "\n",
    "    def present_dictionary(self, option: int=1) -> None:\n",
    "        '''\n",
    "        Presentation of all words in the tested dictionary.\n",
    "        :param: option: int=1 --> which language should be in the first column? (1- first, 2-second, another-error)\n",
    "        '''\n",
    "        print('##### All words in dictionary #####')\n",
    "        if(option==1):\n",
    "            idx = 1\n",
    "            print(f'#### {self.language[0]} -- {self.language[1]}')\n",
    "            for key, item in zip(self.language1.keys(), self.language1.values()):\n",
    "                print(f'## {idx}. {key} -- {item}')\n",
    "                idx += 1\n",
    "        elif(option==2):\n",
    "            idx = 1\n",
    "            print(f'#### {self.language[1]} -- {self.language[0]}')\n",
    "            for key, item in zip(self.language1.keys(), self.language1.values()):\n",
    "                print(f'## {idx}. {key} -- {item}')\n",
    "                idx += 1\n",
    "        else:\n",
    "            print('Error: option must be {1,2}')\n",
    "    \n",
    "    def create_learning_list(self) -> None:\n",
    "        basic_path = self.path2txt[:-4]\n",
    "        self.path2lang1 = basic_path + f'_{self.language[0]}_{self.name}.txt'\n",
    "        self.path2lang2 = basic_path + f'_{self.language[1]}_{self.name}.txt'\n",
    "        if Path(self.path2lang1).is_file():\n",
    "            print('Your vocabulary list does exist!')\n",
    "        else:\n",
    "            print(\"Your vocabulary list doesn't exist! We create it\")\n",
    "            with open(self.path2lang1, 'w') as f:\n",
    "                for item in self.language1.keys():\n",
    "                    f.write(\"%s\\n\" % item)\n",
    "        if Path(self.path2lang2).is_file():\n",
    "            print('Your vocabulary list does exist!')\n",
    "        else:\n",
    "            print(\"Your vocabulary list doesn't exist! We create it\")\n",
    "            with open(self.path2lang2, 'w') as f:\n",
    "                for item in self.language2.keys():\n",
    "                    f.write(\"%s\\n\" % item)\n",
    "\n",
    "    def load_your_vocabulary_list(self) -> None:\n",
    "        with open(self.path2lang1, encoding='utf-8') as f:\n",
    "            self.vocabulary_lang1_list = f.readlines()\n",
    "            self.vocabulary_lang1_list = [word.strip().replace('', '\\n') for word in self.vocabulary_lang1_list]\n",
    "        with open(self.path2lang2, encoding='utf-8') as f:\n",
    "            self.vocabulary_lang2_list = f.readlines()\n",
    "            self.vocabulary_lang2_list = [word.strip().replace('', '\\n') for word in self.vocabulary_lang2_list]\n",
    "\n",
    "    def start_learning(self, num_of_word: int) -> None:\n",
    "        self.create_learning_list()\n",
    "        self.load_your_vocabulary_list()\n",
    "\n",
    "        input_word = str(input(\"Translate the word: \"))\n",
    "        print(\"to jest twoja liczba\", a)"
   ]
  },
  {
   "cell_type": "code",
   "execution_count": 55,
   "metadata": {},
   "outputs": [
    {
     "name": "stdout",
     "output_type": "stream",
     "text": [
      "vocabulary\\wladaj_i_gadaj_adv_1.\n",
      "##### All words in dictionary #####\n",
      "#### English -- Polish\n",
      "## 1. annual -- corocznie\n",
      "## 2. silent -- niemy\n",
      "## 3. fetch -- przynieść\n",
      "## 4. castaway -- rozbitek\n",
      "## 5. discover -- odkryć\n",
      "## 6. worship -- czcić\n"
     ]
    },
    {
     "data": {
      "text/plain": [
       "['annual - corocznie\\n',\n",
       " 'silent - niemy\\n',\n",
       " 'fetch - przynieść\\n',\n",
       " 'castaway   - rozbitek \\n',\n",
       " ' discover  -  odkryć  \\n',\n",
       " 'worship - czcić']"
      ]
     },
     "execution_count": 55,
     "metadata": {},
     "output_type": "execute_result"
    }
   ],
   "source": [
    "lv = LearnVocabulary(path2txt='vocabulary\\wladaj_i_gadaj_adv_1.txt', alias='MM')\n",
    "# lv.load_txt()\n",
    "lv.present_dictionary()\n",
    "# lv.start_learning(1)\n",
    "list(lv.list_of_sentence)"
   ]
  },
  {
   "cell_type": "code",
   "execution_count": null,
   "metadata": {},
   "outputs": [],
   "source": []
  }
 ],
 "metadata": {
  "interpreter": {
   "hash": "1e0f987234bc18a56d51c339a368a33a9b71f769f796dd633b2e6116bc2ca256"
  },
  "kernelspec": {
   "display_name": "Python 3.8.5 64-bit",
   "language": "python",
   "name": "python3"
  },
  "language_info": {
   "codemirror_mode": {
    "name": "ipython",
    "version": 3
   },
   "file_extension": ".py",
   "mimetype": "text/x-python",
   "name": "python",
   "nbconvert_exporter": "python",
   "pygments_lexer": "ipython3",
   "version": "3.8.5"
  },
  "orig_nbformat": 4
 },
 "nbformat": 4,
 "nbformat_minor": 2
}
